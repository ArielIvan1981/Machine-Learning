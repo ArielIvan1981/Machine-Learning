{
  "nbformat": 4,
  "nbformat_minor": 0,
  "metadata": {
    "colab": {
      "provenance": []
    },
    "kernelspec": {
      "name": "python3",
      "display_name": "Python 3"
    },
    "language_info": {
      "name": "python"
    }
  },
  "cells": [
    {
      "cell_type": "code",
      "execution_count": 2,
      "metadata": {
        "id": "Zn0zgZ-cx8__"
      },
      "outputs": [],
      "source": [
        "import pandas as pd\n",
        "import numpy as np\n",
        "import matplotlib.pyplot as plt"
      ]
    },
    {
      "cell_type": "code",
      "source": [
        "df = pd.read(\"archivo.csv\")\n",
        "df.head()"
      ],
      "metadata": {
        "id": "inIgCMvpyRSs"
      },
      "execution_count": null,
      "outputs": []
    },
    {
      "cell_type": "code",
      "source": [
        "# Ahora con polyfit() busco una recta que mejor ajuste a los puntos con numpy()\n",
        "m, b = np.polyfit(df[\"ejex\"], df[\"ejey\"], 1) # 1 porque quiero analisis lineal\n",
        "print(m, b)"
      ],
      "metadata": {
        "id": "FDuaQCA-3F8B"
      },
      "execution_count": null,
      "outputs": []
    },
    {
      "cell_type": "code",
      "source": [
        "plt.scatter(df[\"ejex\"], df[\"ejey\"], c=\"red\")\n",
        "plt.plot(df[\"ejex\"], b+m*df[\"ejex\"])\n",
        "plt.title(\"Grafica de dispersion\")\n",
        "plt.xlabel(\"ejex\")\n",
        "plt.ylabel(\"ejey\")\n",
        "plt.grid() # para añadir una cuadricula\n",
        "plt.savefig(\"Grafica_Dispersion\") # para guardar la grafica generada\n",
        "plt.show()"
      ],
      "metadata": {
        "id": "qbX9FLjo16Tx"
      },
      "execution_count": null,
      "outputs": []
    }
  ]
}